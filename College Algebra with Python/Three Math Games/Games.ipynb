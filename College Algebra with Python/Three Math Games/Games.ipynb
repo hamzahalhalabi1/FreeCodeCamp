{
 "cells": [
  {
   "cell_type": "markdown",
   "source": [
    "*It is advised not to run them on Jupyter Notebook for a better experience*"
   ],
   "metadata": {
    "collapsed": false
   },
   "id": "f1e7d99feee7a8bc"
  },
  {
   "cell_type": "markdown",
   "source": [
    "# Game 1"
   ],
   "metadata": {
    "collapsed": false
   },
   "id": "74a5898a2cbff643"
  },
  {
   "cell_type": "code",
   "execution_count": 3,
   "id": "initial_id",
   "metadata": {
    "collapsed": true,
    "ExecuteTime": {
     "end_time": "2024-03-17T11:54:11.801301100Z",
     "start_time": "2024-03-17T11:53:35.488989800Z"
    }
   },
   "outputs": [
    {
     "data": {
      "text/plain": "<Figure size 640x480 with 1 Axes>",
      "image/png": "[encoded data removed]"
     },
     "metadata": {},
     "output_type": "display_data"
    },
    {
     "name": "stdout",
     "output_type": "stream",
     "text": [
      "Welcome to the Scatter Plot Game!\n",
      "Try to guess the coordinates of the points on the graph.\n",
      "Enter 'q' to quit.\n",
      "Incorrect. Try a lower value for X and a higher value for Y.\n",
      "Incorrect. Try a lower value for X and a higher value for Y.\n",
      "Incorrect. Try a higher value for X and a lower value for Y.\n",
      "Incorrect. Try a lower value for X and a higher value for Y.\n"
     ]
    },
    {
     "ename": "ValueError",
     "evalue": "invalid literal for int() with base 10: ''",
     "output_type": "error",
     "traceback": [
      "\u001B[1;31m---------------------------------------------------------------------------\u001B[0m",
      "\u001B[1;31mValueError\u001B[0m                                Traceback (most recent call last)",
      "Cell \u001B[1;32mIn[3], line 48\u001B[0m\n\u001B[0;32m     46\u001B[0m xlim \u001B[38;5;241m=\u001B[39m (\u001B[38;5;241m0\u001B[39m, \u001B[38;5;241m10\u001B[39m)  \u001B[38;5;66;03m# Change the x-axis limits as desired\u001B[39;00m\n\u001B[0;32m     47\u001B[0m ylim \u001B[38;5;241m=\u001B[39m (\u001B[38;5;241m0\u001B[39m, \u001B[38;5;241m10\u001B[39m)  \u001B[38;5;66;03m# Change the y-axis limits as desired\u001B[39;00m\n\u001B[1;32m---> 48\u001B[0m \u001B[43mplay_game\u001B[49m\u001B[43m(\u001B[49m\u001B[43mnum_points\u001B[49m\u001B[43m,\u001B[49m\u001B[43m \u001B[49m\u001B[43mxlim\u001B[49m\u001B[43m,\u001B[49m\u001B[43m \u001B[49m\u001B[43mylim\u001B[49m\u001B[43m)\u001B[49m\n",
      "Cell \u001B[1;32mIn[3], line 34\u001B[0m, in \u001B[0;36mplay_game\u001B[1;34m(num_points, xlim, ylim)\u001B[0m\n\u001B[0;32m     31\u001B[0m     \u001B[38;5;28mprint\u001B[39m(\u001B[38;5;124m\"\u001B[39m\u001B[38;5;124mExiting the game...\u001B[39m\u001B[38;5;124m\"\u001B[39m)\n\u001B[0;32m     32\u001B[0m     \u001B[38;5;28;01mreturn\u001B[39;00m\n\u001B[1;32m---> 34\u001B[0m guess_x \u001B[38;5;241m=\u001B[39m \u001B[38;5;28;43mint\u001B[39;49m\u001B[43m(\u001B[49m\u001B[43mguess_x\u001B[49m\u001B[43m)\u001B[49m\n\u001B[0;32m     35\u001B[0m guess_y \u001B[38;5;241m=\u001B[39m \u001B[38;5;28mint\u001B[39m(guess_y)\n\u001B[0;32m     37\u001B[0m \u001B[38;5;28;01mif\u001B[39;00m guess_x \u001B[38;5;241m==\u001B[39m x[i] \u001B[38;5;129;01mand\u001B[39;00m guess_y \u001B[38;5;241m==\u001B[39m y[i]:\n",
      "\u001B[1;31mValueError\u001B[0m: invalid literal for int() with base 10: ''"
     ]
    }
   ],
   "source": [
    "import matplotlib.pyplot as plt\n",
    "import numpy as np\n",
    "\n",
    "def generate_points(num_points, xlim, ylim):\n",
    "    x = np.random.randint(*xlim, size=num_points)\n",
    "    y = np.random.randint(*ylim, size=num_points)\n",
    "    return x, y\n",
    "\n",
    "def plot_points(x, y):\n",
    "    plt.scatter(x, y, color='blue')\n",
    "    plt.xlabel('X')\n",
    "    plt.ylabel('Y')\n",
    "    plt.title('Guess the Coordinates')\n",
    "    plt.grid(True)\n",
    "    plt.show()\n",
    "\n",
    "def play_game(num_points, xlim, ylim):\n",
    "    x, y = generate_points(num_points, xlim, ylim)\n",
    "    plot_points(x, y)\n",
    "    print(\"Welcome to the Scatter Plot Game!\")\n",
    "    print(\"Try to guess the coordinates of the points on the graph.\")\n",
    "    print(\"Enter 'q' to quit.\")\n",
    "\n",
    "    for i in range(num_points):\n",
    "        guess_x = input(f\"Enter your guess for X coordinate of point {i + 1}: \")\n",
    "        if guess_x.lower() == 'q':\n",
    "            print(\"Exiting the game...\")\n",
    "            return\n",
    "        guess_y = input(f\"Enter your guess for Y coordinate of point {i + 1}: \")\n",
    "        if guess_y.lower() == 'q':\n",
    "            print(\"Exiting the game...\")\n",
    "            return\n",
    "        \n",
    "        guess_x = int(guess_x)\n",
    "        guess_y = int(guess_y)\n",
    "        \n",
    "        if guess_x == x[i] and guess_y == y[i]:\n",
    "            print(\"Correct!\")\n",
    "        else:\n",
    "            hint_x = \"higher\" if guess_x < x[i] else \"lower\"\n",
    "            hint_y = \"higher\" if guess_y < y[i] else \"lower\"\n",
    "            print(f\"Incorrect. Try a {hint_x} value for X and a {hint_y} value for Y.\")\n",
    "\n",
    "if __name__ == \"__main__\":\n",
    "    num_points = 5  # Change the number of points as desired\n",
    "    xlim = (0, 10)  # Change the x-axis limits as desired\n",
    "    ylim = (0, 10)  # Change the y-axis limits as desired\n",
    "    play_game(num_points, xlim, ylim)\n"
   ]
  },
  {
   "cell_type": "markdown",
   "source": [
    "# Game 2"
   ],
   "metadata": {
    "collapsed": false
   },
   "id": "1b70ffbc86b4ee46"
  },
  {
   "cell_type": "code",
   "execution_count": 5,
   "outputs": [
    {
     "name": "stdout",
     "output_type": "stream",
     "text": [
      "Welcome to the Algebra Practice Game!\n",
      "Solve the following equations:\n",
      "Question 1: What is the answer to -68 + 63 ?\n",
      "Invalid input. Please enter a number.\n",
      "Question 2: What is the answer to -23 - -57 ?\n",
      "Invalid input. Please enter a number.\n",
      "Question 3: What is the answer to -93 + -4 ?\n",
      "Invalid input. Please enter a number.\n",
      "Question 4: What is the answer to 57 - 17 ?\n",
      "Invalid input. Please enter a number.\n",
      "Question 5: What is the answer to -13 * -67 ?\n",
      "Invalid input. Please enter a number.\n",
      "\n",
      "Your final score is: 0/5\n"
     ]
    }
   ],
   "source": [
    "import random\n",
    "\n",
    "def generate_problem():\n",
    "    a = random.randint(-100, 100)\n",
    "    b = random.randint(-100, 100)\n",
    "    c = random.randint(-100, 100)\n",
    "    operator = random.choice(['+', '-', '*', '/'])\n",
    "    \n",
    "    if operator == '+':\n",
    "        problem = f\"{a} + {b}\"\n",
    "        answer = a + b\n",
    "    elif operator == '-':\n",
    "        problem = f\"{a} - {b}\"\n",
    "        answer = a - b\n",
    "    elif operator == '*':\n",
    "        problem = f\"{a} * {b}\"\n",
    "        answer = a * b\n",
    "    else:\n",
    "        # Avoid division by zero\n",
    "        if b == 0:\n",
    "            b = random.randint(-100, 100)\n",
    "        problem = f\"{a} / {b}\"\n",
    "        answer = a / b\n",
    "    \n",
    "    return problem, answer\n",
    "\n",
    "def main():\n",
    "    print(\"Welcome to the Algebra Practice Game!\")\n",
    "    print(\"Solve the following equations:\")\n",
    "    \n",
    "    score = 0\n",
    "    num_problems = 5\n",
    "    \n",
    "    for i in range(num_problems):\n",
    "        problem, answer = generate_problem()\n",
    "        print(f\"Question {i+1}: What is the answer to {problem} ?\")\n",
    "        user_answer = input(\"Your answer: \")\n",
    "        \n",
    "        try:\n",
    "            user_answer = float(user_answer)\n",
    "            if user_answer == answer:\n",
    "                print(\"Correct!\")\n",
    "                score += 1\n",
    "            else:\n",
    "                print(\"Incorrect!\")\n",
    "        except ValueError:\n",
    "            print(\"Invalid input. Please enter a number.\")\n",
    "    \n",
    "    print(f\"\\nYour final score is: {score}/{num_problems}\")\n",
    "\n",
    "if __name__ == \"__main__\":\n",
    "    main()\n"
   ],
   "metadata": {
    "collapsed": false,
    "ExecuteTime": {
     "end_time": "2024-03-17T11:58:08.657910300Z",
     "start_time": "2024-03-17T11:58:00.159257200Z"
    }
   },
   "id": "68223f9b935a43f2"
  },
  {
   "cell_type": "markdown",
   "source": [
    "# Game 3"
   ],
   "metadata": {
    "collapsed": false
   },
   "id": "62cc93cc5821ce37"
  },
  {
   "cell_type": "code",
   "execution_count": null,
   "outputs": [],
   "source": [
    "import pygame\n",
    "import sys\n",
    "import math\n",
    "import random\n",
    "\n",
    "# Initialize Pygame\n",
    "pygame.init()\n",
    "\n",
    "# Constants\n",
    "WIDTH, HEIGHT = 800, 600\n",
    "WHITE = (255, 255, 255)\n",
    "BLACK = (0, 0, 0)\n",
    "GREEN = (0, 255, 0)\n",
    "\n",
    "# Function to draw the wall\n",
    "def draw_wall(surface, x, height):\n",
    "    pygame.draw.rect(surface, BLACK, (x, 0, 20, height))\n",
    "    pygame.draw.rect(surface, BLACK, (x, height + 200, 20, HEIGHT - height - 200))\n",
    "\n",
    "# Function to calculate projectile motion\n",
    "def calculate_projectile(start_pos, angle, velocity):\n",
    "    g = 9.81  # acceleration due to gravity\n",
    "    radians = math.radians(angle)\n",
    "    time_of_flight = (2 * velocity * math.sin(radians)) / g\n",
    "    max_height = (velocity ** 2 * (math.sin(radians) ** 2)) / (2 * g)\n",
    "    distance = velocity * math.cos(radians) * time_of_flight\n",
    "    return max_height, distance\n",
    "\n",
    "# Function to check if projectile clears the wall\n",
    "def clear_wall(wall_x, wall_height, projectile_height, distance):\n",
    "    return distance >= wall_x and projectile_height <= wall_height\n",
    "\n",
    "# Generate random wall height and position\n",
    "wall_height = random.randint(100, 400)\n",
    "wall_x = random.randint(200, 600)\n",
    "\n",
    "# Set up Pygame display\n",
    "screen = pygame.display.set_mode((WIDTH, HEIGHT))\n",
    "pygame.display.set_caption(\"Projectile Game\")\n",
    "\n",
    "# Main game loop\n",
    "running = True\n",
    "angle = 45\n",
    "velocity = 50\n",
    "while running:\n",
    "    screen.fill(WHITE)\n",
    "\n",
    "    # Draw wall\n",
    "    draw_wall(screen, wall_x, wall_height)\n",
    "\n",
    "    # Draw projectile\n",
    "    max_height, distance = calculate_projectile((100, HEIGHT - 100), angle, velocity)\n",
    "    pygame.draw.circle(screen, GREEN, (int(distance), HEIGHT - int(max_height)), 10)\n",
    "\n",
    "    # Check if projectile clears the wall\n",
    "    cleared = clear_wall(wall_x, wall_height, max_height, distance)\n",
    "\n",
    "    # Event handling\n",
    "    for event in pygame.event.get():\n",
    "        if event.type == pygame.QUIT:\n",
    "            running = False\n",
    "        elif event.type == pygame.KEYDOWN:\n",
    "            if event.key == pygame.K_UP:\n",
    "                angle += 1\n",
    "            elif event.key == pygame.K_DOWN:\n",
    "                angle -= 1\n",
    "            elif event.key == pygame.K_RIGHT:\n",
    "                velocity += 1\n",
    "            elif event.key == pygame.K_LEFT:\n",
    "                velocity -= 1\n",
    "\n",
    "    # Display message if the wall is cleared\n",
    "    if cleared:\n",
    "        font = pygame.font.SysFont(None, 36)\n",
    "        text = font.render(\"Wall Cleared!\", True, BLACK)\n",
    "        screen.blit(text, (WIDTH // 2 - text.get_width() // 2, HEIGHT // 2 - text.get_height() // 2))\n",
    "\n",
    "    pygame.display.flip()\n",
    "\n",
    "pygame.quit()\n",
    "sys.exit()\n"
   ],
   "metadata": {
    "collapsed": false
   },
   "id": "eb02414fb53e6c7a"
  }
 ],
 "metadata": {
  "kernelspec": {
   "display_name": "Python 3",
   "language": "python",
   "name": "python3"
  },
  "language_info": {
   "codemirror_mode": {
    "name": "ipython",
    "version": 2
   },
   "file_extension": ".py",
   "mimetype": "text/x-python",
   "name": "python",
   "nbconvert_exporter": "python",
   "pygments_lexer": "ipython2",
   "version": "2.7.6"
  }
 },
 "nbformat": 4,
 "nbformat_minor": 5
}
